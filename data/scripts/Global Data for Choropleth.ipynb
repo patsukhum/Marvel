{
 "cells": [
  {
   "cell_type": "code",
   "execution_count": 1,
   "metadata": {},
   "outputs": [],
   "source": [
    "import pandas as pd\n",
    "import numpy as np"
   ]
  },
  {
   "cell_type": "code",
   "execution_count": 3,
   "metadata": {},
   "outputs": [
    {
     "name": "stdout",
     "output_type": "stream",
     "text": [
      "BoxOffice.csv              all_characters_data.csv\r\n",
      "BoxOffice.xlsx             endgame.csv\r\n",
      "all_character_pages.json   genre_and_reviews_omdb.csv\r\n"
     ]
    }
   ],
   "source": [
    "! ls ../raw/"
   ]
  },
  {
   "cell_type": "code",
   "execution_count": 6,
   "metadata": {},
   "outputs": [
    {
     "data": {
      "text/html": [
       "<div>\n",
       "<style scoped>\n",
       "    .dataframe tbody tr th:only-of-type {\n",
       "        vertical-align: middle;\n",
       "    }\n",
       "\n",
       "    .dataframe tbody tr th {\n",
       "        vertical-align: top;\n",
       "    }\n",
       "\n",
       "    .dataframe thead th {\n",
       "        text-align: right;\n",
       "    }\n",
       "</style>\n",
       "<table border=\"1\" class=\"dataframe\">\n",
       "  <thead>\n",
       "    <tr style=\"text-align: right;\">\n",
       "      <th></th>\n",
       "      <th>Market</th>\n",
       "      <th>Release Date</th>\n",
       "      <th>Opening</th>\n",
       "      <th>Gross</th>\n",
       "    </tr>\n",
       "  </thead>\n",
       "  <tbody>\n",
       "    <tr>\n",
       "      <th>0</th>\n",
       "      <td>USA</td>\n",
       "      <td>26-Apr-19</td>\n",
       "      <td>$357,115,007</td>\n",
       "      <td>$858,373,000</td>\n",
       "    </tr>\n",
       "    <tr>\n",
       "      <th>1</th>\n",
       "      <td>Austria</td>\n",
       "      <td>24-Apr-19</td>\n",
       "      <td>$3,563,042</td>\n",
       "      <td>$8,376,632</td>\n",
       "    </tr>\n",
       "    <tr>\n",
       "      <th>2</th>\n",
       "      <td>Belgium</td>\n",
       "      <td>24-Apr-19</td>\n",
       "      <td>$3,141,578</td>\n",
       "      <td>$8,682,740</td>\n",
       "    </tr>\n",
       "    <tr>\n",
       "      <th>3</th>\n",
       "      <td>Bulgaria</td>\n",
       "      <td>26-Apr-19</td>\n",
       "      <td>$442,037</td>\n",
       "      <td>$1,469,984</td>\n",
       "    </tr>\n",
       "    <tr>\n",
       "      <th>4</th>\n",
       "      <td>Croatia</td>\n",
       "      <td>25-Apr-19</td>\n",
       "      <td>$545,732</td>\n",
       "      <td>$1,144,369</td>\n",
       "    </tr>\n",
       "  </tbody>\n",
       "</table>\n",
       "</div>"
      ],
      "text/plain": [
       "     Market Release Date        Opening          Gross\n",
       "0       USA    26-Apr-19  $357,115,007   $858,373,000 \n",
       "1   Austria    24-Apr-19    $3,563,042     $8,376,632 \n",
       "2   Belgium    24-Apr-19    $3,141,578     $8,682,740 \n",
       "3  Bulgaria    26-Apr-19      $442,037     $1,469,984 \n",
       "4   Croatia    25-Apr-19      $545,732     $1,144,369 "
      ]
     },
     "execution_count": 6,
     "metadata": {},
     "output_type": "execute_result"
    }
   ],
   "source": [
    "df = pd.read_csv('../raw/endgame.csv')\n",
    "df.head()"
   ]
  },
  {
   "cell_type": "code",
   "execution_count": 13,
   "metadata": {},
   "outputs": [],
   "source": [
    "df['Opening'] = df['Opening'].apply(lambda x: x[1:].replace(',',''))\n",
    "df['Gross'] = df['Gross'].apply(lambda x: x[1:].replace(',',''))"
   ]
  },
  {
   "cell_type": "code",
   "execution_count": 14,
   "metadata": {},
   "outputs": [
    {
     "data": {
      "text/html": [
       "<div>\n",
       "<style scoped>\n",
       "    .dataframe tbody tr th:only-of-type {\n",
       "        vertical-align: middle;\n",
       "    }\n",
       "\n",
       "    .dataframe tbody tr th {\n",
       "        vertical-align: top;\n",
       "    }\n",
       "\n",
       "    .dataframe thead th {\n",
       "        text-align: right;\n",
       "    }\n",
       "</style>\n",
       "<table border=\"1\" class=\"dataframe\">\n",
       "  <thead>\n",
       "    <tr style=\"text-align: right;\">\n",
       "      <th></th>\n",
       "      <th>Market</th>\n",
       "      <th>Release Date</th>\n",
       "      <th>Opening</th>\n",
       "      <th>Gross</th>\n",
       "    </tr>\n",
       "  </thead>\n",
       "  <tbody>\n",
       "    <tr>\n",
       "      <th>0</th>\n",
       "      <td>USA</td>\n",
       "      <td>26-Apr-19</td>\n",
       "      <td>357115007</td>\n",
       "      <td>858373000</td>\n",
       "    </tr>\n",
       "    <tr>\n",
       "      <th>1</th>\n",
       "      <td>Austria</td>\n",
       "      <td>24-Apr-19</td>\n",
       "      <td>3563042</td>\n",
       "      <td>8376632</td>\n",
       "    </tr>\n",
       "    <tr>\n",
       "      <th>2</th>\n",
       "      <td>Belgium</td>\n",
       "      <td>24-Apr-19</td>\n",
       "      <td>3141578</td>\n",
       "      <td>8682740</td>\n",
       "    </tr>\n",
       "    <tr>\n",
       "      <th>3</th>\n",
       "      <td>Bulgaria</td>\n",
       "      <td>26-Apr-19</td>\n",
       "      <td>442037</td>\n",
       "      <td>1469984</td>\n",
       "    </tr>\n",
       "    <tr>\n",
       "      <th>4</th>\n",
       "      <td>Croatia</td>\n",
       "      <td>25-Apr-19</td>\n",
       "      <td>545732</td>\n",
       "      <td>1144369</td>\n",
       "    </tr>\n",
       "  </tbody>\n",
       "</table>\n",
       "</div>"
      ],
      "text/plain": [
       "     Market Release Date     Opening       Gross\n",
       "0       USA    26-Apr-19  357115007   858373000 \n",
       "1   Austria    24-Apr-19    3563042     8376632 \n",
       "2   Belgium    24-Apr-19    3141578     8682740 \n",
       "3  Bulgaria    26-Apr-19     442037     1469984 \n",
       "4   Croatia    25-Apr-19     545732     1144369 "
      ]
     },
     "execution_count": 14,
     "metadata": {},
     "output_type": "execute_result"
    }
   ],
   "source": [
    "df.head()"
   ]
  },
  {
   "cell_type": "code",
   "execution_count": 15,
   "metadata": {},
   "outputs": [],
   "source": []
  },
  {
   "cell_type": "code",
   "execution_count": 16,
   "metadata": {},
   "outputs": [],
   "source": [
    "name_mapping = {\n",
    "    'USA': 'United States of America',\n",
    "    'Czech Republic': 'Czechia',\n",
    "    'Serbia and Montenegro': 'Serbia',\n",
    "    'United Kingdom' : 'United Kingdom of Great Britain and Northern Ireland',\n",
    "    'Bolivia' : 'Bolivia (Plurinational State of)',\n",
    "    'Venezuela': 'Venezuela (Bolivarian Republic of)',\n",
    "    'Russia/CIS': 'Russian Federation',\n",
    "    'South Korea': 'Korea, Republic of',\n",
    "    'Taiwan': 'Taiwan, Province of China',\n",
    "    'Vietnam': 'Viet Nam',\n",
    "}\n",
    "\n",
    "def map_countries(x):\n",
    "    if x in name_mapping:\n",
    "        return name_mapping[x]\n",
    "    return x"
   ]
  },
  {
   "cell_type": "code",
   "execution_count": 17,
   "metadata": {},
   "outputs": [],
   "source": [
    "df['Market'] = df['Market'].apply(lambda x: map_countries(x))"
   ]
  },
  {
   "cell_type": "code",
   "execution_count": 19,
   "metadata": {},
   "outputs": [],
   "source": [
    "df.to_csv('../clean/endgame_clean.csv')"
   ]
  },
  {
   "cell_type": "code",
   "execution_count": null,
   "metadata": {},
   "outputs": [],
   "source": []
  }
 ],
 "metadata": {
  "kernelspec": {
   "display_name": "Python 3",
   "language": "python",
   "name": "python3"
  },
  "language_info": {
   "codemirror_mode": {
    "name": "ipython",
    "version": 3
   },
   "file_extension": ".py",
   "mimetype": "text/x-python",
   "name": "python",
   "nbconvert_exporter": "python",
   "pygments_lexer": "ipython3",
   "version": "3.6.5"
  }
 },
 "nbformat": 4,
 "nbformat_minor": 2
}
