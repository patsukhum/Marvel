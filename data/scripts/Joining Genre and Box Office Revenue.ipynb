{
 "cells": [
  {
   "cell_type": "code",
   "execution_count": 1,
   "metadata": {},
   "outputs": [],
   "source": [
    "import pandas as pd\n",
    "import numpy as np"
   ]
  },
  {
   "cell_type": "code",
   "execution_count": 5,
   "metadata": {
    "scrolled": true
   },
   "outputs": [],
   "source": [
    "df1 = pd.read_csv('../clean/BoxOffice_clean.csv')\n",
    "df2 = pd.read_csv('../clean/genre_and_reviews_omdb_cleaned.csv')"
   ]
  },
  {
   "cell_type": "code",
   "execution_count": 6,
   "metadata": {},
   "outputs": [
    {
     "data": {
      "text/plain": [
       "(1200, 9)"
      ]
     },
     "execution_count": 6,
     "metadata": {},
     "output_type": "execute_result"
    }
   ],
   "source": [
    "df1.shape"
   ]
  },
  {
   "cell_type": "code",
   "execution_count": 7,
   "metadata": {},
   "outputs": [
    {
     "data": {
      "text/html": [
       "<div>\n",
       "<style scoped>\n",
       "    .dataframe tbody tr th:only-of-type {\n",
       "        vertical-align: middle;\n",
       "    }\n",
       "\n",
       "    .dataframe tbody tr th {\n",
       "        vertical-align: top;\n",
       "    }\n",
       "\n",
       "    .dataframe thead th {\n",
       "        text-align: right;\n",
       "    }\n",
       "</style>\n",
       "<table border=\"1\" class=\"dataframe\">\n",
       "  <thead>\n",
       "    <tr style=\"text-align: right;\">\n",
       "      <th></th>\n",
       "      <th>Unnamed: 0</th>\n",
       "      <th>Year</th>\n",
       "      <th>Rank</th>\n",
       "      <th>Movie</th>\n",
       "      <th>Worldwide</th>\n",
       "      <th>Domestic</th>\n",
       "      <th>%Domestic</th>\n",
       "      <th>Foreign</th>\n",
       "      <th>%Foreign</th>\n",
       "    </tr>\n",
       "  </thead>\n",
       "  <tbody>\n",
       "    <tr>\n",
       "      <th>0</th>\n",
       "      <td>0</td>\n",
       "      <td>2019</td>\n",
       "      <td>1</td>\n",
       "      <td>Avengers: Endgame</td>\n",
       "      <td>2797800564</td>\n",
       "      <td>858373000.0</td>\n",
       "      <td>30.70</td>\n",
       "      <td>1.939428e+09</td>\n",
       "      <td>69.3</td>\n",
       "    </tr>\n",
       "    <tr>\n",
       "      <th>1</th>\n",
       "      <td>1</td>\n",
       "      <td>2019</td>\n",
       "      <td>2</td>\n",
       "      <td>The Lion King</td>\n",
       "      <td>1655146969</td>\n",
       "      <td>543486894.0</td>\n",
       "      <td>32.80</td>\n",
       "      <td>1.111660e+09</td>\n",
       "      <td>67.2</td>\n",
       "    </tr>\n",
       "    <tr>\n",
       "      <th>2</th>\n",
       "      <td>2</td>\n",
       "      <td>2019</td>\n",
       "      <td>3</td>\n",
       "      <td>Spider-Man: Far from Home</td>\n",
       "      <td>1131845802</td>\n",
       "      <td>390532085.0</td>\n",
       "      <td>34.50</td>\n",
       "      <td>7.413137e+08</td>\n",
       "      <td>65.5</td>\n",
       "    </tr>\n",
       "    <tr>\n",
       "      <th>3</th>\n",
       "      <td>3</td>\n",
       "      <td>2019</td>\n",
       "      <td>4</td>\n",
       "      <td>Captain Marvel</td>\n",
       "      <td>1128274794</td>\n",
       "      <td>426829839.0</td>\n",
       "      <td>37.80</td>\n",
       "      <td>7.014450e+08</td>\n",
       "      <td>62.2</td>\n",
       "    </tr>\n",
       "    <tr>\n",
       "      <th>4</th>\n",
       "      <td>4</td>\n",
       "      <td>2019</td>\n",
       "      <td>5</td>\n",
       "      <td>Toy Story 4</td>\n",
       "      <td>1073163682</td>\n",
       "      <td>433952080.0</td>\n",
       "      <td>40.40</td>\n",
       "      <td>6.392116e+08</td>\n",
       "      <td>59.6</td>\n",
       "    </tr>\n",
       "  </tbody>\n",
       "</table>\n",
       "</div>"
      ],
      "text/plain": [
       "   Unnamed: 0  Year  Rank                      Movie   Worldwide     Domestic  \\\n",
       "0           0  2019     1          Avengers: Endgame  2797800564  858373000.0   \n",
       "1           1  2019     2              The Lion King  1655146969  543486894.0   \n",
       "2           2  2019     3  Spider-Man: Far from Home  1131845802  390532085.0   \n",
       "3           3  2019     4             Captain Marvel  1128274794  426829839.0   \n",
       "4           4  2019     5                Toy Story 4  1073163682  433952080.0   \n",
       "\n",
       "  %Domestic       Foreign  %Foreign  \n",
       "0     30.70  1.939428e+09      69.3  \n",
       "1     32.80  1.111660e+09      67.2  \n",
       "2     34.50  7.413137e+08      65.5  \n",
       "3     37.80  7.014450e+08      62.2  \n",
       "4     40.40  6.392116e+08      59.6  "
      ]
     },
     "execution_count": 7,
     "metadata": {},
     "output_type": "execute_result"
    }
   ],
   "source": [
    "df1.head()"
   ]
  },
  {
   "cell_type": "code",
   "execution_count": 14,
   "metadata": {},
   "outputs": [
    {
     "data": {
      "text/plain": [
       "1167"
      ]
     },
     "execution_count": 14,
     "metadata": {},
     "output_type": "execute_result"
    }
   ],
   "source": [
    "c"
   ]
  },
  {
   "cell_type": "code",
   "execution_count": 11,
   "metadata": {},
   "outputs": [],
   "source": [
    "titles = set(df2['Title'])"
   ]
  },
  {
   "cell_type": "code",
   "execution_count": 38,
   "metadata": {},
   "outputs": [
    {
     "data": {
      "text/plain": [
       "Index(['Unnamed: 0', 'Actors', 'Awards', 'BoxOffice', 'Country', 'DVD',\n",
       "       'Director', 'Error', 'Genre', 'Language', 'Metascore', 'Plot', 'Poster',\n",
       "       'Production', 'Rated', 'Ratings', 'Released', 'Response', 'Runtime',\n",
       "       'Title', 'Type', 'Website', 'Writer', 'Year', 'imdbID', 'imdbRating',\n",
       "       'imdbVotes', 'totalSeasons', 'Marvel Film', 'DC Film', 'genre_cleaned'],\n",
       "      dtype='object')"
      ]
     },
     "execution_count": 38,
     "metadata": {},
     "output_type": "execute_result"
    }
   ],
   "source": [
    "df2.columns"
   ]
  },
  {
   "cell_type": "code",
   "execution_count": 39,
   "metadata": {},
   "outputs": [],
   "source": [
    "title_to_rev = {}\n",
    "for k,v in df1.iterrows():\n",
    "    title_to_rev[v['Movie']] = v['Worldwide']\n",
    "    \n",
    "title_to_genre = {}\n",
    "for k,v in df2.iterrows():\n",
    "    if v['Marvel Film'] == 1:\n",
    "        title_to_genre[v['Title']] = 'Marvel'\n",
    "    elif v['DC Film'] == 1:\n",
    "        title_to_genre[v['Title']] = 'DC'        \n",
    "    else:\n",
    "        title_to_genre[v['Title']] = v['genre_cleaned']\n",
    "    \n"
   ]
  },
  {
   "cell_type": "code",
   "execution_count": 40,
   "metadata": {},
   "outputs": [],
   "source": [
    "all_keys = title_to_rev.keys() & title_to_genre.keys()"
   ]
  },
  {
   "cell_type": "code",
   "execution_count": 41,
   "metadata": {},
   "outputs": [],
   "source": [
    "titles_arr = []\n",
    "revenues_arr = []\n",
    "genres_arr = []\n",
    "for k in all_keys:\n",
    "    titles_arr.append(k)\n",
    "    revenues_arr.append(title_to_rev[k])\n",
    "    genres_arr.append(title_to_genre[k])    \n"
   ]
  },
  {
   "cell_type": "code",
   "execution_count": 42,
   "metadata": {},
   "outputs": [
    {
     "data": {
      "text/html": [
       "<div>\n",
       "<style scoped>\n",
       "    .dataframe tbody tr th:only-of-type {\n",
       "        vertical-align: middle;\n",
       "    }\n",
       "\n",
       "    .dataframe tbody tr th {\n",
       "        vertical-align: top;\n",
       "    }\n",
       "\n",
       "    .dataframe thead th {\n",
       "        text-align: right;\n",
       "    }\n",
       "</style>\n",
       "<table border=\"1\" class=\"dataframe\">\n",
       "  <thead>\n",
       "    <tr style=\"text-align: right;\">\n",
       "      <th></th>\n",
       "      <th>title</th>\n",
       "      <th>revenues</th>\n",
       "      <th>genres</th>\n",
       "    </tr>\n",
       "  </thead>\n",
       "  <tbody>\n",
       "    <tr>\n",
       "      <th>0</th>\n",
       "      <td>Cinderella</td>\n",
       "      <td>542351353</td>\n",
       "      <td>Drama/Family/Romance/Comedy</td>\n",
       "    </tr>\n",
       "    <tr>\n",
       "      <th>1</th>\n",
       "      <td>I, Frankenstein</td>\n",
       "      <td>71154592</td>\n",
       "      <td>Thriller/Mystery/Horror/Crime</td>\n",
       "    </tr>\n",
       "    <tr>\n",
       "      <th>2</th>\n",
       "      <td>Source Code</td>\n",
       "      <td>147332697</td>\n",
       "      <td>Drama/Family/Romance/Comedy</td>\n",
       "    </tr>\n",
       "    <tr>\n",
       "      <th>3</th>\n",
       "      <td>Bridge of Spies</td>\n",
       "      <td>165478348</td>\n",
       "      <td>Biography/History/Documentary/War</td>\n",
       "    </tr>\n",
       "    <tr>\n",
       "      <th>4</th>\n",
       "      <td>The Unborn</td>\n",
       "      <td>76514050</td>\n",
       "      <td>Drama/Family/Romance/Comedy</td>\n",
       "    </tr>\n",
       "  </tbody>\n",
       "</table>\n",
       "</div>"
      ],
      "text/plain": [
       "             title   revenues                             genres\n",
       "0       Cinderella  542351353        Drama/Family/Romance/Comedy\n",
       "1  I, Frankenstein   71154592      Thriller/Mystery/Horror/Crime\n",
       "2      Source Code  147332697        Drama/Family/Romance/Comedy\n",
       "3  Bridge of Spies  165478348  Biography/History/Documentary/War\n",
       "4       The Unborn   76514050        Drama/Family/Romance/Comedy"
      ]
     },
     "execution_count": 42,
     "metadata": {},
     "output_type": "execute_result"
    }
   ],
   "source": [
    "df_result = pd.DataFrame({'title':titles_arr, 'revenues':revenues_arr, 'genres':genres_arr})\n",
    "df_result.head()"
   ]
  },
  {
   "cell_type": "code",
   "execution_count": 46,
   "metadata": {},
   "outputs": [
    {
     "data": {
      "text/plain": [
       "((23, 3), (12, 3))"
      ]
     },
     "execution_count": 46,
     "metadata": {},
     "output_type": "execute_result"
    }
   ],
   "source": [
    "df_result[df_result['genres'] == 'Marvel'].shape, df_result[df_result['genres'] == 'DC'].shape"
   ]
  },
  {
   "cell_type": "code",
   "execution_count": 48,
   "metadata": {},
   "outputs": [],
   "source": [
    "df_result.to_csv('../clean/genre_revenue.csv')"
   ]
  },
  {
   "cell_type": "code",
   "execution_count": null,
   "metadata": {},
   "outputs": [],
   "source": []
  }
 ],
 "metadata": {
  "kernelspec": {
   "display_name": "Python 3",
   "language": "python",
   "name": "python3"
  },
  "language_info": {
   "codemirror_mode": {
    "name": "ipython",
    "version": 3
   },
   "file_extension": ".py",
   "mimetype": "text/x-python",
   "name": "python",
   "nbconvert_exporter": "python",
   "pygments_lexer": "ipython3",
   "version": "3.6.5"
  }
 },
 "nbformat": 4,
 "nbformat_minor": 2
}
