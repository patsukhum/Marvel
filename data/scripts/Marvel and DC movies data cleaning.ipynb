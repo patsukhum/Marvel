{
 "cells": [
  {
   "cell_type": "code",
   "execution_count": 17,
   "metadata": {},
   "outputs": [],
   "source": [
    "import pandas as pd"
   ]
  },
  {
   "cell_type": "code",
   "execution_count": 18,
   "metadata": {},
   "outputs": [],
   "source": [
    "data =pd.read_csv('genre_and_reviews_omdb_cleaned.csv')"
   ]
  },
  {
   "cell_type": "code",
   "execution_count": 19,
   "metadata": {},
   "outputs": [
    {
     "data": {
      "text/plain": [
       "Index(['Unnamed: 0', 'Actors', 'Awards', 'BoxOffice', 'Country', 'DVD',\n",
       "       'Director', 'Error', 'Genre', 'Language', 'Metascore', 'Plot', 'Poster',\n",
       "       'Production', 'Rated', 'Ratings', 'Released', 'Response', 'Runtime',\n",
       "       'Title', 'Type', 'Website', 'Writer', 'Year', 'imdbID', 'imdbRating',\n",
       "       'imdbVotes', 'totalSeasons', 'Marvel Film', 'DC Film', 'genre_cleaned'],\n",
       "      dtype='object')"
      ]
     },
     "execution_count": 19,
     "metadata": {},
     "output_type": "execute_result"
    }
   ],
   "source": [
    "data.columns"
   ]
  },
  {
   "cell_type": "code",
   "execution_count": 29,
   "metadata": {},
   "outputs": [],
   "source": [
    "# making boolean series for a team name \n",
    "filter = (data[\"Marvel Film\"]== 1) | (data[\"DC Film\"] == 1)\n",
    "  \n",
    "# filtering data \n",
    "df = data.where(filter) "
   ]
  },
  {
   "cell_type": "code",
   "execution_count": 33,
   "metadata": {},
   "outputs": [],
   "source": [
    "# drop NaNs\n",
    "df = df.dropna(subset=[\"DC Film\", \"Marvel Film\"])"
   ]
  },
  {
   "cell_type": "code",
   "execution_count": 34,
   "metadata": {},
   "outputs": [
    {
     "data": {
      "text/plain": [
       "0                         Avengers: Endgame\n",
       "2                 Spider-Man: Far from Home\n",
       "3                            Captain Marvel\n",
       "6                                     Joker\n",
       "19                                  Shazam!\n",
       "98                   Avengers: Infinity War\n",
       "99                            Black Panther\n",
       "102                                 Aquaman\n",
       "108                    Ant-Man and the Wasp\n",
       "202                  Spider-Man: Homecoming\n",
       "204          Guardians of the Galaxy Vol. 2\n",
       "205                          Thor: Ragnarok\n",
       "206                            Wonder Woman\n",
       "210                          Justice League\n",
       "296              Captain America: Civil War\n",
       "304                           Suicide Squad\n",
       "305                          Doctor Strange\n",
       "399                 Avengers: Age of Ultron\n",
       "402      Batman v Superman: Dawn of Justice\n",
       "410                                 Ant-Man\n",
       "497                 Guardians of the Galaxy\n",
       "501     Captain America: The Winter Soldier\n",
       "596                              Iron Man 3\n",
       "603                            Man of Steel\n",
       "604                    Thor: The Dark World\n",
       "693                            The Avengers\n",
       "695                   The Dark Knight Rises\n",
       "802                                    Thor\n",
       "805      Captain America: The First Avenger\n",
       "816                           Green Lantern\n",
       "892                              Iron Man 2\n",
       "1017                               Watchmen\n",
       "1082                        The Dark Knight\n",
       "1089                               Iron Man\n",
       "1102                    The Incredible Hulk\n",
       "Name: Title, dtype: object"
      ]
     },
     "execution_count": 34,
     "metadata": {},
     "output_type": "execute_result"
    }
   ],
   "source": [
    "df.Title"
   ]
  },
  {
   "cell_type": "code",
   "execution_count": 36,
   "metadata": {},
   "outputs": [
    {
     "data": {
      "text/plain": [
       "(35, 31)"
      ]
     },
     "execution_count": 36,
     "metadata": {},
     "output_type": "execute_result"
    }
   ],
   "source": [
    "df.shape"
   ]
  },
  {
   "cell_type": "code",
   "execution_count": null,
   "metadata": {},
   "outputs": [],
   "source": []
  }
 ],
 "metadata": {
  "kernelspec": {
   "display_name": "Python 3",
   "language": "python",
   "name": "python3"
  },
  "language_info": {
   "codemirror_mode": {
    "name": "ipython",
    "version": 3
   },
   "file_extension": ".py",
   "mimetype": "text/x-python",
   "name": "python",
   "nbconvert_exporter": "python",
   "pygments_lexer": "ipython3",
   "version": "3.6.7"
  }
 },
 "nbformat": 4,
 "nbformat_minor": 2
}
