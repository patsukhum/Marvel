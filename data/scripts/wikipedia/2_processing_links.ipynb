{
 "cells": [
  {
   "cell_type": "code",
   "execution_count": 1,
   "metadata": {},
   "outputs": [],
   "source": [
    "import json\n",
    "\n",
    "import wikipedia as wp\n",
    "import pandas as pd\n",
    "from tqdm.notebook import tqdm\n",
    "\n",
    "from marvel import config"
   ]
  },
  {
   "cell_type": "code",
   "execution_count": null,
   "metadata": {},
   "outputs": [],
   "source": [
    "def get_all_links_single_page(page_name):\n",
    "    return wp.page(page_name).links\n",
    "\n",
    "\n",
    "def get_all_links_all_pages(char_pages):\n",
    "    links = []\n",
    "    for page in char_pages:\n",
    "        links += get_all_links_single_page(page)\n",
    "    return links\n",
    "\n",
    "\n",
    "def get_links_to_other_characters(char_dict, page_dict):\n",
    "    name = char_dict['name']\n",
    "    all_links = get_all_links_all_pages(char_dict['pages'])\n",
    "    links_to_others = {}\n",
    "    for link in all_links:\n",
    "        if link in page_dict:\n",
    "            linked_chars = page_dict.get(link, [])\n",
    "            for char in linked_chars:\n",
    "                curr_links = links_to_others.get(char, 0)\n",
    "                links_to_others[char] = curr_links + 1\n",
    "    \n",
    "    links_to_others_json = [{\"source\": name, \"target\": target, \"count\": count} for target, count in links_to_others.items()]\n",
    "    return links_to_others_json"
   ]
  },
  {
   "cell_type": "code",
   "execution_count": 2,
   "metadata": {},
   "outputs": [],
   "source": [
    "mcu_char_page_names = json.loads((config.cleandata / 'all_character_pages_processed.json').open().read())\n",
    "\n",
    "# Converting to mapping from page names -> characters\n",
    "pages_to_names = {}\n",
    "for dct in mcu_char_page_names:\n",
    "    charname = dct['name']\n",
    "    for page_name in dct['pages']:\n",
    "        linked_chars = pages_to_names.get(page_name, [])\n",
    "        linked_chars.append(charname)\n",
    "        pages_to_names[page_name] = linked_chars\n",
    "\n",
    "\n",
    "all_links = [get_links_to_other_characters(char_dict, pages_to_names) for char_dict in tqdm(mcu_char_page_names)]\n",
    "\n",
    "all_links\n",
    "json.dump(all_links, (config.cleandata / 'all_character_links.json').open('w'))"
   ]
  }
 ],
 "metadata": {
  "kernelspec": {
   "display_name": "Python 3",
   "language": "python",
   "name": "python3"
  },
  "language_info": {
   "codemirror_mode": {
    "name": "ipython",
    "version": 3
   },
   "file_extension": ".py",
   "mimetype": "text/x-python",
   "name": "python",
   "nbconvert_exporter": "python",
   "pygments_lexer": "ipython3",
   "version": "3.7.4"
  }
 },
 "nbformat": 4,
 "nbformat_minor": 2
}
